{
 "cells": [
  {
   "cell_type": "markdown",
   "metadata": {},
   "source": [
    "#### Imports"
   ]
  },
  {
   "cell_type": "code",
   "execution_count": 3,
   "metadata": {},
   "outputs": [],
   "source": [
    "import re \n",
    "import pandas as pd"
   ]
  },
  {
   "cell_type": "markdown",
   "metadata": {},
   "source": [
    "### Functions"
   ]
  },
  {
   "cell_type": "markdown",
   "metadata": {},
   "source": [
    "---\n",
    "- Script cleaning and appending to a dataset containing only of dialogs  \n",
    " - Remove contexts  \n",
    " - Remove tailing special characters\n",
    " - Split each line into character and dialog to be appended to a dataset\n",
    "\n",
    "---"
   ]
  },
  {
   "cell_type": "code",
   "execution_count": 9,
   "metadata": {},
   "outputs": [],
   "source": [
    "def processScript(scriptFile)->pd.DataFrame:\n",
    "    lines = scriptFile.readlines()\n",
    "    dialogs = [re.sub(r'[\\(\\[].*?[\\)\\]]', '', x) for x in lines]\n",
    "    dialog_df = []\n",
    "    \n",
    "    for l in dialogs:\n",
    "        row = l.split(':')\n",
    "        if len(row)>= 2 and not row[0].startswith('SCENE') and not row[0].startswith('Scene'):\n",
    "            dialog_df.append({'Character':row[0],'Dialog':row[1].rstrip()})\n",
    "    dialog_df = pd.DataFrame(dialog_df)\n",
    "    return dialog_df"
   ]
  },
  {
   "cell_type": "code",
   "execution_count": 10,
   "metadata": {},
   "outputs": [],
   "source": [
    "f = open(\"POC1.txt\", \"r\")\n",
    "poc1 = processScript(f)"
   ]
  },
  {
   "cell_type": "code",
   "execution_count": 16,
   "metadata": {},
   "outputs": [
    {
     "data": {
      "text/html": [
       "<div>\n",
       "<style scoped>\n",
       "    .dataframe tbody tr th:only-of-type {\n",
       "        vertical-align: middle;\n",
       "    }\n",
       "\n",
       "    .dataframe tbody tr th {\n",
       "        vertical-align: top;\n",
       "    }\n",
       "\n",
       "    .dataframe thead th {\n",
       "        text-align: right;\n",
       "    }\n",
       "</style>\n",
       "<table border=\"1\" class=\"dataframe\">\n",
       "  <thead>\n",
       "    <tr style=\"text-align: right;\">\n",
       "      <th></th>\n",
       "      <th>Character</th>\n",
       "      <th>Dialog</th>\n",
       "    </tr>\n",
       "  </thead>\n",
       "  <tbody>\n",
       "    <tr>\n",
       "      <th>0</th>\n",
       "      <td>Young Elizabeth</td>\n",
       "      <td>?We pillage, we plunder, we rifle and loot. ...</td>\n",
       "    </tr>\n",
       "    <tr>\n",
       "      <th>1</th>\n",
       "      <td>Gibbs</td>\n",
       "      <td>Quiet, missy! Cursed pirates sail these water...</td>\n",
       "    </tr>\n",
       "    <tr>\n",
       "      <th>2</th>\n",
       "      <td>Norrington</td>\n",
       "      <td>Mr. Gibbs , that will do!</td>\n",
       "    </tr>\n",
       "    <tr>\n",
       "      <th>3</th>\n",
       "      <td>Gibbs</td>\n",
       "      <td>She was singing about pirates. Bad luck to be...</td>\n",
       "    </tr>\n",
       "    <tr>\n",
       "      <th>4</th>\n",
       "      <td>Norrington</td>\n",
       "      <td>Consider them marked. On your way.</td>\n",
       "    </tr>\n",
       "  </tbody>\n",
       "</table>\n",
       "</div>"
      ],
      "text/plain": [
       "          Character                                             Dialog\n",
       "0  Young Elizabeth     ?We pillage, we plunder, we rifle and loot. ...\n",
       "1            Gibbs    Quiet, missy! Cursed pirates sail these water...\n",
       "2        Norrington                          Mr. Gibbs , that will do!\n",
       "3            Gibbs    She was singing about pirates. Bad luck to be...\n",
       "4        Norrington                 Consider them marked. On your way."
      ]
     },
     "execution_count": 16,
     "metadata": {},
     "output_type": "execute_result"
    }
   ],
   "source": [
    "poc1.head(5)"
   ]
  }
 ],
 "metadata": {
  "kernelspec": {
   "display_name": "Python 3",
   "language": "python",
   "name": "python3"
  },
  "language_info": {
   "codemirror_mode": {
    "name": "ipython",
    "version": 3
   },
   "file_extension": ".py",
   "mimetype": "text/x-python",
   "name": "python",
   "nbconvert_exporter": "python",
   "pygments_lexer": "ipython3",
   "version": "3.7.3"
  }
 },
 "nbformat": 4,
 "nbformat_minor": 4
}
